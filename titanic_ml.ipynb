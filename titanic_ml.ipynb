{
 "cells": [
  {
   "cell_type": "code",
   "execution_count": 92,
   "metadata": {},
   "outputs": [
    {
     "name": "stdout",
     "output_type": "stream",
     "text": [
      "891\n",
      "   PassengerId  Survived  Pclass  \\\n",
      "0            1         0       3   \n",
      "1            2         1       1   \n",
      "2            3         1       3   \n",
      "3            4         1       1   \n",
      "4            5         0       3   \n",
      "\n",
      "                                                Name     Sex   Age  SibSp  \\\n",
      "0                            Braund, Mr. Owen Harris    male  22.0      1   \n",
      "1  Cumings, Mrs. John Bradley (Florence Briggs Th...  female  38.0      1   \n",
      "2                             Heikkinen, Miss. Laina  female  26.0      0   \n",
      "3       Futrelle, Mrs. Jacques Heath (Lily May Peel)  female  35.0      1   \n",
      "4                           Allen, Mr. William Henry    male  35.0      0   \n",
      "\n",
      "   Parch            Ticket     Fare Cabin Embarked  \n",
      "0      0         A/5 21171   7.2500   NaN        S  \n",
      "1      0          PC 17599  71.2833   C85        C  \n",
      "2      0  STON/O2. 3101282   7.9250   NaN        S  \n",
      "3      0            113803  53.1000  C123        S  \n",
      "4      0            373450   8.0500   NaN        S  \n"
     ]
    }
   ],
   "source": [
    "#importing numpy and pandas\n",
    "\n",
    "import numpy as np\n",
    "import pandas as pd\n",
    "\n",
    "\n",
    "# Importing training and test data\n",
    "\n",
    "train_data = pd.read_csv('train.csv')\n",
    "test_data = pd.read_csv('test.csv')\n",
    "\n",
    "\n",
    "# Examining training data to see what transformations need to be made\n",
    "\n",
    "print(len(train_data))\n",
    "print(train_data.head())"
   ]
  },
  {
   "cell_type": "markdown",
   "metadata": {},
   "source": [
    "Looking at the data, we can see things that need fixing. First we can see that some columns contain null values: we need to check for these and determine what to do with them. Second, several columns contain strings that cannot be passed to our model, e.g., \"Sex\"; these will need to be replaced with numerical values.\n",
    "\n",
    "We fill the null values in \"Age\" and \"Fare\", drop rows with null values in \"Embarked\" as there are only 2 of them and there is no convenient way to fill them, and ignore the null values in \"Cabin\" as 1) there are too many of them and 2) \"Cabin\" would not be a useful feature for our analysis."
   ]
  },
  {
   "cell_type": "code",
   "execution_count": 93,
   "metadata": {},
   "outputs": [
    {
     "name": "stdout",
     "output_type": "stream",
     "text": [
      "Train\n",
      "PassengerId      0\n",
      "Survived         0\n",
      "Pclass           0\n",
      "Name             0\n",
      "Sex              0\n",
      "Age            177\n",
      "SibSp            0\n",
      "Parch            0\n",
      "Ticket           0\n",
      "Fare             0\n",
      "Cabin          687\n",
      "Embarked         2\n",
      "dtype: int64\n",
      "\n",
      "Test\n",
      "PassengerId      0\n",
      "Pclass           0\n",
      "Name             0\n",
      "Sex              0\n",
      "Age             86\n",
      "SibSp            0\n",
      "Parch            0\n",
      "Ticket           0\n",
      "Fare             1\n",
      "Cabin          327\n",
      "Embarked         0\n",
      "dtype: int64\n",
      "     PassengerId  Pclass                Name   Sex   Age  SibSp  Parch Ticket  \\\n",
      "152         1044       3  Storey, Mr. Thomas  male  60.5      0      0   3701   \n",
      "\n",
      "     Fare Cabin Embarked  \n",
      "152   NaN   NaN        S  \n",
      "Train\n",
      "PassengerId      0\n",
      "Survived         0\n",
      "Pclass           0\n",
      "Name             0\n",
      "Sex              0\n",
      "Age              0\n",
      "SibSp            0\n",
      "Parch            0\n",
      "Ticket           0\n",
      "Fare             0\n",
      "Cabin          687\n",
      "Embarked         0\n",
      "dtype: int64\n",
      "\n",
      "Test\n",
      "PassengerId      0\n",
      "Pclass           0\n",
      "Name             0\n",
      "Sex              0\n",
      "Age              0\n",
      "SibSp            0\n",
      "Parch            0\n",
      "Ticket           0\n",
      "Fare             0\n",
      "Cabin          327\n",
      "Embarked         0\n",
      "dtype: int64\n"
     ]
    }
   ],
   "source": [
    "# Checking for null values\n",
    "\n",
    "print('Train')\n",
    "print(train_data.isnull().sum())\n",
    "print('\\nTest')\n",
    "print(test_data.isnull().sum())\n",
    "\n",
    "\n",
    "# Null values in Age, Cabin and Embarked\n",
    "\n",
    "# Replacing null values in \"Age\" with mean age\n",
    "\n",
    "mean_age = train_data.Age.mean()\n",
    "test_mean_age = test_data.Age.mean()\n",
    "\n",
    "train_data.Age.fillna(mean_age, inplace=True)\n",
    "test_data.Age.fillna(test_mean_age, inplace=True)\n",
    "\n",
    "# Removing records from train with Null values in \"Embarked\"\n",
    "\n",
    "train_data.dropna(subset=['Embarked'], inplace=True)\n",
    "\n",
    "# Identifying test record with missing fare\n",
    "\n",
    "print(test_data[test_data['Fare'].isnull()])\n",
    "\n",
    "# Passenger is in 3rd Class and embarked at Southampton; finding mean fare for 3rd class Southampton passengers\n",
    "\n",
    "third_class_mean = test_data[(test_data['Pclass'] == 3) & (test_data['Embarked'] == 'S')].Fare.mean()\n",
    "\n",
    "test_data.Fare.fillna(third_class_mean, inplace=True)\n",
    "\n",
    "#Final check for null values (Ignoring \"Cabin\" null values as there are too many to drop and nothing clear to fill with)\n",
    "\n",
    "print('Train')\n",
    "print(train_data.isnull().sum())\n",
    "\n",
    "print('\\nTest')\n",
    "print(test_data.isnull().sum())\n"
   ]
  },
  {
   "cell_type": "markdown",
   "metadata": {},
   "source": [
    "We give a numerical representation of \"Sex\", making male 0 and female 1. We also code dummy variables for \"Embarked\", taking Queenstown as our reference, and for \"Passenger Class\", taking second class as our reference. We choose second class because the disparity between first and third class passengers will be greater than between first and second or second and third."
   ]
  },
  {
   "cell_type": "code",
   "execution_count": 94,
   "metadata": {},
   "outputs": [
    {
     "name": "stdout",
     "output_type": "stream",
     "text": [
      "   PassengerId  Survived  Pclass  \\\n",
      "0            1         0       3   \n",
      "1            2         1       1   \n",
      "2            3         1       3   \n",
      "3            4         1       1   \n",
      "4            5         0       3   \n",
      "5            6         0       3   \n",
      "6            7         0       1   \n",
      "7            8         0       3   \n",
      "8            9         1       3   \n",
      "9           10         1       2   \n",
      "\n",
      "                                                Name  Sex        Age  SibSp  \\\n",
      "0                            Braund, Mr. Owen Harris    0  22.000000      1   \n",
      "1  Cumings, Mrs. John Bradley (Florence Briggs Th...    1  38.000000      1   \n",
      "2                             Heikkinen, Miss. Laina    1  26.000000      0   \n",
      "3       Futrelle, Mrs. Jacques Heath (Lily May Peel)    1  35.000000      1   \n",
      "4                           Allen, Mr. William Henry    0  35.000000      0   \n",
      "5                                   Moran, Mr. James    0  29.699118      0   \n",
      "6                            McCarthy, Mr. Timothy J    0  54.000000      0   \n",
      "7                     Palsson, Master. Gosta Leonard    0   2.000000      3   \n",
      "8  Johnson, Mrs. Oscar W (Elisabeth Vilhelmina Berg)    1  27.000000      0   \n",
      "9                Nasser, Mrs. Nicholas (Adele Achem)    1  14.000000      1   \n",
      "\n",
      "   Parch            Ticket     Fare Cabin Embarked  qvs  qvc  p2vp1  p2vp3  \n",
      "0      0         A/5 21171   7.2500   NaN        S    1    0      0      1  \n",
      "1      0          PC 17599  71.2833   C85        C    0    1      1      0  \n",
      "2      0  STON/O2. 3101282   7.9250   NaN        S    1    0      0      1  \n",
      "3      0            113803  53.1000  C123        S    1    0      1      0  \n",
      "4      0            373450   8.0500   NaN        S    1    0      0      1  \n",
      "5      0            330877   8.4583   NaN        Q    0    0      0      1  \n",
      "6      0             17463  51.8625   E46        S    1    0      1      0  \n",
      "7      1            349909  21.0750   NaN        S    1    0      0      1  \n",
      "8      2            347742  11.1333   NaN        S    1    0      0      1  \n",
      "9      0            237736  30.0708   NaN        C    0    1      0      0  \n"
     ]
    }
   ],
   "source": [
    "#\"Sex\" and \"Embarked\" contain non-numerical values\n",
    "# Giving numerical representations of \"Sex\"\n",
    "\n",
    "train_data['Sex'] = train_data['Sex'].apply(lambda x: 0 if x == \"male\" else 1)\n",
    "test_data['Sex'] = test_data['Sex'].apply(lambda x: 0 if x == \"male\" else 1)\n",
    "\n",
    "# Coding dummy variables for numerical representations of point of Embarkation\n",
    "\n",
    "train_data['qvs'] = train_data['Embarked'].apply(lambda x: 1 if x == 'S' else 0)\n",
    "train_data['qvc'] = train_data['Embarked'].apply(lambda x: 1 if x == 'C' else 0)\n",
    "\n",
    "test_data['qvs'] = test_data['Embarked'].apply(lambda x: 1 if x == 'S' else 0)\n",
    "test_data['qvc'] = test_data['Embarked'].apply(lambda x: 1 if x == 'C' else 0)\n",
    "\n",
    "\n",
    "# Coding dummy variables for Passenger Class\n",
    "\n",
    "train_data['p2vp1'] = train_data['Pclass'].apply(lambda x: 1 if x == 1 else 0)\n",
    "train_data['p2vp3'] = train_data['Pclass'].apply(lambda x: 1 if x == 3 else 0)\n",
    "\n",
    "test_data['p2vp1'] = test_data['Pclass'].apply(lambda x: 1 if x == 1 else 0)\n",
    "test_data['p2vp3'] = test_data['Pclass'].apply(lambda x: 1 if x == 3 else 0)\n",
    "\n",
    "print(train_data.head(10))\n",
    "        "
   ]
  },
  {
   "cell_type": "code",
   "execution_count": 95,
   "metadata": {},
   "outputs": [
    {
     "name": "stdout",
     "output_type": "stream",
     "text": [
      "   p2vp1  p2vp3  Sex   Age  SibSp  Parch     Fare  qvs  qvc\n",
      "0      0      1    0  22.0      1      0   7.2500    1    0\n",
      "1      1      0    1  38.0      1      0  71.2833    0    1\n",
      "2      0      1    1  26.0      0      0   7.9250    1    0\n",
      "3      1      0    1  35.0      1      0  53.1000    1    0\n",
      "4      0      1    0  35.0      0      0   8.0500    1    0\n"
     ]
    }
   ],
   "source": [
    "\n",
    "#Separating features from target\n",
    "\n",
    "cleaned_data = train_data[['p2vp1', 'p2vp3', 'Sex', 'Age',\\\n",
    "                           'SibSp', 'Parch', 'Fare', 'qvs', 'qvc']]\n",
    "\n",
    "cleaned_test_data = test_data[['p2vp1', 'p2vp3', 'Sex', 'Age',\\\n",
    "                           'SibSp', 'Parch', 'Fare', 'qvs', 'qvc']]\n",
    "\n",
    "target_data = train_data[['Survived']]\n",
    "target_data = target_data.iloc[:, -1].values\n",
    "\n",
    "print(cleaned_data.head())\n",
    "\n",
    "\n"
   ]
  },
  {
   "cell_type": "markdown",
   "metadata": {},
   "source": [
    "I wanted to test the effect that different methods of scaling would have on the accuracy of the model, so I tested using unscaled, unit-scaled and standardised data."
   ]
  },
  {
   "cell_type": "code",
   "execution_count": 96,
   "metadata": {},
   "outputs": [
    {
     "name": "stdout",
     "output_type": "stream",
     "text": [
      "[[ 8.88427871e-01 -1.14177151e+00  2.61082889e+00 -3.81099701e-02\n",
      "  -3.11550001e-01 -9.02315509e-02  2.48383042e-03 -2.71093966e-01\n",
      "   1.94417792e-01]]\n",
      "0.8042744656917885\n"
     ]
    },
    {
     "name": "stderr",
     "output_type": "stream",
     "text": [
      "C:\\Users\\Mike\\miniconda3\\lib\\site-packages\\sklearn\\linear_model\\_logistic.py:764: ConvergenceWarning: lbfgs failed to converge (status=1):\n",
      "STOP: TOTAL NO. of ITERATIONS REACHED LIMIT.\n",
      "\n",
      "Increase the number of iterations (max_iter) or scale the data as shown in:\n",
      "    https://scikit-learn.org/stable/modules/preprocessing.html\n",
      "Please also refer to the documentation for alternative solver options:\n",
      "    https://scikit-learn.org/stable/modules/linear_model.html#logistic-regression\n",
      "  extra_warning_msg=_LOGISTIC_SOLVER_CONVERGENCE_MSG)\n"
     ]
    }
   ],
   "source": [
    "# First pass: logistic regression without scaling using Scikit-Learn\n",
    "\n",
    "from sklearn.linear_model import LogisticRegression\n",
    "\n",
    "unscaled_log_model = LogisticRegression()\n",
    "\n",
    "unscaled_log_model.fit(cleaned_data, target_data)\n",
    "\n",
    "#checking coeffs and R^2\n",
    "\n",
    "print(unscaled_log_model.coef_)\n",
    "print(unscaled_log_model.score(cleaned_data, target_data))\n",
    "\n",
    "\n",
    "\n",
    "\n"
   ]
  },
  {
   "cell_type": "code",
   "execution_count": 97,
   "metadata": {},
   "outputs": [
    {
     "name": "stdout",
     "output_type": "stream",
     "text": [
      "[[ 0.83593194 -1.16706398  2.54829678 -2.13664842 -1.39842426 -0.40663929\n",
      "   0.48115022 -0.40100799  0.09612094]]\n",
      "0.8020247469066367\n"
     ]
    }
   ],
   "source": [
    "#Second pass: Logistic regression with unit scaling\n",
    "\n",
    "from sklearn.preprocessing import MinMaxScaler\n",
    "\n",
    "unit_scaler = MinMaxScaler()\n",
    "\n",
    "unit_scaled_data = pd.DataFrame(unit_scaler.fit_transform(cleaned_data))\n",
    "\n",
    "\n",
    "# producing LR model with unit scaled data\n",
    "\n",
    "unit_scaled_log_model = LogisticRegression()\n",
    "\n",
    "unit_scaled_log_model.fit(unit_scaled_data, target_data)\n",
    "\n",
    "#checking coeffs and R^2\n",
    "\n",
    "print(unit_scaled_log_model.coef_)\n",
    "print(unit_scaled_log_model.score(unit_scaled_data, target_data))\n",
    "\n"
   ]
  },
  {
   "cell_type": "code",
   "execution_count": 98,
   "metadata": {},
   "outputs": [
    {
     "name": "stdout",
     "output_type": "stream",
     "text": [
      "[[ 0.38911209 -0.60134545  1.27943211 -0.49993988 -0.34742874 -0.07490603\n",
      "   0.11410341 -0.18203823  0.01525313]]\n",
      "0.8042744656917885\n"
     ]
    }
   ],
   "source": [
    "# Third pass: Logistic regression with standardisation\n",
    "\n",
    "from sklearn.preprocessing import StandardScaler\n",
    "\n",
    "scaler = StandardScaler()\n",
    "\n",
    "scaled_data = pd.DataFrame(scaler.fit_transform(cleaned_data))\n",
    "scaled_test_data = pd.DataFrame(scaler.fit_transform(cleaned_test_data))\n",
    "\n",
    "# producing LR model with unit scaled data\n",
    "scaled_log_model = LogisticRegression()\n",
    "\n",
    "scaled_log_model.fit(scaled_data, target_data)\n",
    "\n",
    "#checking coeffs and R^2\n",
    "\n",
    "print(scaled_log_model.coef_)\n",
    "print(scaled_log_model.score(scaled_data, target_data))\n",
    "\n",
    "# Highest R^2 so far"
   ]
  },
  {
   "cell_type": "markdown",
   "metadata": {},
   "source": [
    "Having examined different methods of scaling with logistic regression, I now want to test different methods of classification, specifically K Nearest Neighbors, Random Forest and Support Vector Classification.\n",
    "\n",
    "I begin with K Neighbors. As the value of \"k\" needs to be put in manually, I begin by testing the accuracy of different values for K, looking for the elbow shape. To do this, I need to first generate a testing and training set from the Kaggle training data."
   ]
  },
  {
   "cell_type": "code",
   "execution_count": 99,
   "metadata": {},
   "outputs": [],
   "source": [
    "from sklearn.model_selection import train_test_split\n",
    "\n",
    "x_train, x_test, y_train, y_test = train_test_split(scaled_data, target_data, test_size = 0.25, random_state=1)\n",
    "\n"
   ]
  },
  {
   "cell_type": "markdown",
   "metadata": {},
   "source": [
    "I then produced a graph of accuracies for differing values of K. This suggested a variety of possible values for k, e.g., 2, 6, 18. However, as I was worried about overfitting, I also plotted a validation curve for different values of k.\n",
    "\n",
    "From the validation curve, we can see that there is overfitting at low values of k. The cross-validation score peaks at k=23, while the training score is roughly level, so I decided to use k=23."
   ]
  },
  {
   "cell_type": "code",
   "execution_count": 100,
   "metadata": {},
   "outputs": [
    {
     "data": {
      "image/png": "[encoded data removed]",
      "text/plain": [
       "<Figure size 432x288 with 1 Axes>"
      ]
     },
     "metadata": {
      "needs_background": "light"
     },
     "output_type": "display_data"
    },
    {
     "data": {
      "image/png": "[encoded data removed]",
      "text/plain": [
       "<Figure size 432x288 with 1 Axes>"
      ]
     },
     "metadata": {
      "needs_background": "light"
     },
     "output_type": "display_data"
    }
   ],
   "source": [
    "from sklearn.neighbors import KNeighborsClassifier\n",
    "from matplotlib import pyplot as plt\n",
    "from sklearn.model_selection import validation_curve\n",
    "\n",
    "#defining an empty list to hold scores\n",
    "\n",
    "k_vals = range(1, 40)\n",
    "k_scores = []\n",
    "\n",
    "for k in range(1, 40):\n",
    "    k_model = KNeighborsClassifier(n_neighbors = k)\n",
    "    k_model.fit(x_train, y_train)\n",
    "    k_scores.append(k_model.score(x_test, y_test))\n",
    "\n",
    "\n",
    "plt.plot(k_vals, k_scores)\n",
    "plt.title('Accuracy by number of neighbors')\n",
    "plt.xlabel('k')\n",
    "plt.ylabel('Accuracy')\n",
    "plt.show()\n",
    "\n",
    "\n",
    "plt.clf()\n",
    "\n",
    "train_results, test_results = validation_curve(KNeighborsClassifier(),\\\n",
    "                                               x_test, y_test, param_name=\"n_neighbors\",\\\n",
    "                                               param_range=k_vals, scoring=\"accuracy\", n_jobs=1)\n",
    "\n",
    "#Geting the means of the train and test results\n",
    "\n",
    "train_results_mean = np.mean(train_results, axis=1)\n",
    "test_results_mean = np.mean(test_results, axis=1)\n",
    "\n",
    "\n",
    "plt.title('Validation curve with KNN')\n",
    "plt.xlabel('k')\n",
    "plt.ylabel('score')\n",
    "plt.plot(k_vals, train_results_mean, color='navy')\n",
    "plt.plot(k_vals, test_results_mean, color='red')\n",
    "plt.show()\n",
    "\n",
    "\n",
    "\n"
   ]
  },
  {
   "cell_type": "code",
   "execution_count": 101,
   "metadata": {},
   "outputs": [
    {
     "name": "stdout",
     "output_type": "stream",
     "text": [
      "0.8071748878923767\n"
     ]
    }
   ],
   "source": [
    "#Testing k Nearest Neighbors model\n",
    "\n",
    "k_model = KNeighborsClassifier(n_neighbors = 23)\n",
    "\n",
    "k_model.fit(x_train, y_train)\n",
    "print(k_model.score(x_test, y_test))\n",
    "\n",
    "# Predicting values for Titanic data\n",
    "\n",
    "k_y_pred = k_model.predict(scaled_test_data)"
   ]
  },
  {
   "cell_type": "markdown",
   "metadata": {},
   "source": [
    "Having tried logistic regression and k nearest neighbors, I now test Random Forest and Support Vector Classifier models"
   ]
  },
  {
   "cell_type": "code",
   "execution_count": 102,
   "metadata": {},
   "outputs": [
    {
     "data": {
      "image/png": "[encoded data removed]",
      "text/plain": [
       "<Figure size 432x288 with 1 Axes>"
      ]
     },
     "metadata": {
      "needs_background": "light"
     },
     "output_type": "display_data"
    },
    {
     "name": "stdout",
     "output_type": "stream",
     "text": [
      "0.8295964125560538\n"
     ]
    }
   ],
   "source": [
    "# Initialising Random Forest, using entropy as criterion because we are dealing with classes\n",
    "\n",
    "from sklearn.ensemble import RandomForestClassifier\n",
    "\n",
    "#determining ideal max depth\n",
    "\n",
    "plt.clf()\n",
    "\n",
    "rf_train_results, rf_test_results = validation_curve(RandomForestClassifier(),\\\n",
    "                                               x_test, y_test, param_name=\"max_depth\",\\\n",
    "                                               param_range=range(1, 20), scoring=\"accuracy\", n_jobs=1)\n",
    "\n",
    "#Geting the means of the train and test results\n",
    "\n",
    "rf_train_results_mean = np.mean(rf_train_results, axis=1)\n",
    "rf_test_results_mean = np.mean(rf_test_results, axis=1)\n",
    "\n",
    "\n",
    "plt.title('Validation curve with Random Forest')\n",
    "plt.xlabel('Max Depth')\n",
    "plt.ylabel('Score')\n",
    "plt.plot(range(1, 20), rf_train_results_mean, color='navy')\n",
    "plt.plot(range(1, 20), rf_test_results_mean, color='red')\n",
    "plt.xticks(range(1, 20))\n",
    "plt.show()\n",
    "\n",
    "rf_model = RandomForestClassifier(criterion=\"entropy\", max_depth=3)\n",
    "\n",
    "rf_model.fit(x_train, y_train)\n",
    "\n",
    "print(rf_model.score(x_test, y_test))\n",
    "\n",
    "rf_y_pred = rf_model.predict(scaled_test_data)\n",
    "\n"
   ]
  },
  {
   "cell_type": "code",
   "execution_count": 103,
   "metadata": {},
   "outputs": [
    {
     "name": "stdout",
     "output_type": "stream",
     "text": [
      "0.8161434977578476\n"
     ]
    }
   ],
   "source": [
    "from sklearn.svm import SVC\n",
    "\n",
    "svc_model = SVC(probability=True)\n",
    "\n",
    "svc_model.fit(x_train, y_train)\n",
    "\n",
    "print(svc_model.score(x_test, y_test))\n",
    "\n",
    "svc_y_pred = svc_model.predict(scaled_test_data)"
   ]
  },
  {
   "cell_type": "markdown",
   "metadata": {},
   "source": [
    "Random forest has the highest accuracy score, suggesting it would be the best choice for our model. Another way of looking for the best model to use would be by plotting a Receiver Operating Characteristic curve, showing true positive rate against false positive rate, and finding which model gives the largest area under the curve."
   ]
  },
  {
   "cell_type": "code",
   "execution_count": 104,
   "metadata": {},
   "outputs": [
    {
     "data": {
      "text/plain": [
       "<Figure size 432x288 with 0 Axes>"
      ]
     },
     "metadata": {},
     "output_type": "display_data"
    },
    {
     "data": {
      "image/png": "[encoded data removed]",
      "text/plain": [
       "<Figure size 864x504 with 1 Axes>"
      ]
     },
     "metadata": {
      "needs_background": "light"
     },
     "output_type": "display_data"
    }
   ],
   "source": [
    "from sklearn.metrics import roc_curve, auc\n",
    "\n",
    "plt.clf()\n",
    "\n",
    "plt.figure(figsize=(12, 7))\n",
    "\n",
    "\n",
    "# Calculating probabilities for Logistic Regression\n",
    "\n",
    "lr_probs = scaled_log_model.fit(x_train, y_train).predict_proba(x_test)\n",
    "\n",
    "lr_fpr, lr_tpr, thresholds = roc_curve(y_test, lr_probs[:, 1])\n",
    "\n",
    "lr_auc = auc(lr_fpr, lr_tpr)\n",
    "\n",
    "plt.plot(lr_fpr, lr_tpr, label=\"Logistic Regression ROC: area = %0.3f\" % lr_auc)\n",
    "\n",
    "\n",
    "# For K Nearest Neighbors\n",
    "\n",
    "k_probs = k_model.fit(x_train, y_train).predict_proba(x_test)\n",
    "\n",
    "k_fpr, k_tpr, thresholds = roc_curve(y_test, k_probs[:, 1])\n",
    "\n",
    "k_auc = auc(k_fpr, k_tpr)\n",
    "\n",
    "plt.plot(k_fpr, k_tpr, label=\"K Nearest Neighbors ROC: area = %0.3f\" % k_auc)\n",
    "\n",
    "\n",
    "# For Random Forest\n",
    "\n",
    "rf_probs = rf_model.fit(x_train, y_train).predict_proba(x_test)\n",
    "\n",
    "rf_fpr, rf_tpr, thresholds = roc_curve(y_test, rf_probs[:, 1])\n",
    "\n",
    "rf_auc = auc(rf_fpr, rf_tpr)\n",
    "\n",
    "plt.plot(rf_fpr, rf_tpr, label=\"Random Forest ROC: area = %0.3f\" % rf_auc)\n",
    "\n",
    "\n",
    "# For SVC\n",
    "\n",
    "svc_probs = svc_model.fit(x_train, y_train).predict_proba(x_test)\n",
    "\n",
    "svc_fpr, svc_tpr, thresholds = roc_curve(y_test, svc_probs[:, 1])\n",
    "\n",
    "svc_auc = auc(svc_fpr, svc_tpr)\n",
    "\n",
    "plt.plot(svc_fpr, svc_tpr, label=\"SVC ROC: area = %0.3f\" % svc_auc)\n",
    "plt.xlabel('False Positive Rate')\n",
    "plt.ylabel('True Positive Rate')\n",
    "plt.legend(loc=0)\n",
    "plt.show()"
   ]
  },
  {
   "cell_type": "markdown",
   "metadata": {},
   "source": [
    "Random forest has the highest accuracy score and Logistic regression has the highest ROC, so I decided to try submitting predictions from both."
   ]
  },
  {
   "cell_type": "code",
   "execution_count": 105,
   "metadata": {},
   "outputs": [
    {
     "name": "stdout",
     "output_type": "stream",
     "text": [
      "   PassengerId  Survived\n",
      "0          892         0\n",
      "1          893         0\n",
      "2          894         0\n",
      "3          895         0\n",
      "4          896         1\n",
      "5          897         0\n",
      "6          898         1\n",
      "7          899         0\n",
      "8          900         1\n",
      "9          901         0\n",
      "   PassengerId  Survived\n",
      "0          892         0\n",
      "1          893         0\n",
      "2          894         0\n",
      "3          895         0\n",
      "4          896         1\n",
      "5          897         0\n",
      "6          898         1\n",
      "7          899         0\n",
      "8          900         1\n",
      "9          901         0\n"
     ]
    }
   ],
   "source": [
    "# Scaling test data, creating results and producing .csv file\n",
    "\n",
    "scaled_test_data = pd.DataFrame(scaler.fit_transform(cleaned_test_data))\n",
    "\n",
    "log_y_pred = scaled_log_model.predict(scaled_test_data)\n",
    "\n",
    "rf_model.fit(scaled_data, target_data)\n",
    "\n",
    "rf_y_pred = rf_model.predict(scaled_test_data)\n",
    "\n",
    "def generate_results(y_pred, filename=\"titanic_results.csv\"):\n",
    "    results = pd.DataFrame({'PassengerId': range(892, 1310, 1), 'Survived': y_pred})\n",
    "    print(results.head(10))\n",
    "    results.to_csv(filename, index=False)\n",
    "\n",
    "generate_results(log_y_pred, \"titanic_results.csv\") # Kaggle gave this a score of 0.77511\n",
    "\n",
    "generate_results(rf_y_pred, \"titanic_rf_results.csv\") # 0.77751"
   ]
  },
  {
   "cell_type": "code",
   "execution_count": null,
   "metadata": {},
   "outputs": [],
   "source": []
  }
 ],
 "metadata": {
  "kernelspec": {
   "display_name": "Python 3",
   "language": "python",
   "name": "python3"
  },
  "language_info": {
   "codemirror_mode": {
    "name": "ipython",
    "version": 3
   },
   "file_extension": ".py",
   "mimetype": "text/x-python",
   "name": "python",
   "nbconvert_exporter": "python",
   "pygments_lexer": "ipython3",
   "version": "3.7.6"
  }
 },
 "nbformat": 4,
 "nbformat_minor": 4
}
